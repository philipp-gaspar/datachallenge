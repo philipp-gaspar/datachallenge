{
 "cells": [
  {
   "cell_type": "markdown",
   "metadata": {},
   "source": [
    "# Exploratory Data Analysis\n",
    "\n",
    "In this notebook I'll explore each variable presented in the dataset."
   ]
  },
  {
   "cell_type": "code",
   "execution_count": 1,
   "metadata": {},
   "outputs": [],
   "source": [
    "import os\n",
    "import pandas as pd\n",
    "import numpy as np\n",
    "import matplotlib.pyplot as plt\n",
    "%matplotlib inline\n",
    "\n",
    "# Folders\n",
    "analysis_folder = os.getcwd()\n",
    "input_data = os.path.join(analysis_folder, 'challenge.json')\n",
    "\n",
    "# Open dataset\n",
    "df = pd.read_json(input_data)"
   ]
  },
  {
   "cell_type": "code",
   "execution_count": 2,
   "metadata": {},
   "outputs": [
    {
     "name": "stdout",
     "output_type": "stream",
     "text": [
      "The dataset has 204428 orders and 14 variables.\n"
     ]
    }
   ],
   "source": [
    "n_orders, n_variables = df.shape\n",
    "\n",
    "print('The dataset has %i orders and %i variables.' % (n_orders, n_variables))"
   ]
  },
  {
   "cell_type": "markdown",
   "metadata": {},
   "source": [
    "## Check Missing Data"
   ]
  },
  {
   "cell_type": "code",
   "execution_count": 3,
   "metadata": {},
   "outputs": [
    {
     "data": {
      "text/plain": [
       "branch_id              0\n",
       "customer_code          0\n",
       "group_code             0\n",
       "is_churn            1915\n",
       "item_code              0\n",
       "item_total_price       0\n",
       "order_id               0\n",
       "quantity               0\n",
       "register_date          0\n",
       "sales_channel          0\n",
       "segment_code           0\n",
       "seller_code            0\n",
       "total_price            0\n",
       "unit_price             0\n",
       "dtype: int64"
      ]
     },
     "execution_count": 3,
     "metadata": {},
     "output_type": "execute_result"
    }
   ],
   "source": [
    "df.isnull().sum()"
   ]
  },
  {
   "cell_type": "code",
   "execution_count": 4,
   "metadata": {},
   "outputs": [
    {
     "name": "stdout",
     "output_type": "stream",
     "text": [
      "The variable \"is_churn\" has 0.94% of missing data.\n"
     ]
    }
   ],
   "source": [
    "print('The variable \"is_churn\" has %1.2f%% of missing data.' % \\\n",
    "((df['is_churn'].isnull().sum() / np.float(df.shape[0])) * 100.))"
   ]
  },
  {
   "cell_type": "markdown",
   "metadata": {},
   "source": [
    "**NOTE**: During the preprocing of the data I could stopt a interesting behavior: all the customers from `group_code` #3 do not have values for the `is_churn` variable. "
   ]
  },
  {
   "cell_type": "code",
   "execution_count": 5,
   "metadata": {},
   "outputs": [
    {
     "data": {
      "text/plain": [
       "array([nan])"
      ]
     },
     "execution_count": 5,
     "metadata": {},
     "output_type": "execute_result"
    }
   ],
   "source": [
    "df[df['group_code'] == 3]['is_churn'].unique()"
   ]
  },
  {
   "cell_type": "markdown",
   "metadata": {},
   "source": [
    "## Number of customers, items and sellers\n",
    "It is plausible to infer that each customer has a unique **customer_code**. The same approach goes to the **item_code** and **seller_code** variables."
   ]
  },
  {
   "cell_type": "code",
   "execution_count": 6,
   "metadata": {},
   "outputs": [
    {
     "name": "stdout",
     "output_type": "stream",
     "text": [
      "The dataset has 838 customers, 290 sellers and 2981 items.\n"
     ]
    }
   ],
   "source": [
    "n_customers = len(df['customer_code'].unique())\n",
    "n_items = len(df['item_code'].unique())\n",
    "n_sellers = len(df['seller_code'].unique())\n",
    "\n",
    "print('The dataset has %i customers, %i sellers and %i items.' % (n_customers, n_sellers, n_items))"
   ]
  },
  {
   "cell_type": "markdown",
   "metadata": {},
   "source": [
    "## Numerical Variables"
   ]
  },
  {
   "cell_type": "markdown",
   "metadata": {},
   "source": [
    "First let's start with the numerical variables.\n",
    "* **quantity**: quantity of items, given by item_code, were bought;\n",
    "* **unit_price**: unit price of this item;\n",
    "* **item_total_price**: total price of items, i.e., quantity* price;\n",
    "* **total_price**: total price of the order (sum of all items);"
   ]
  },
  {
   "cell_type": "code",
   "execution_count": 7,
   "metadata": {},
   "outputs": [
    {
     "data": {
      "text/html": [
       "<div>\n",
       "<style scoped>\n",
       "    .dataframe tbody tr th:only-of-type {\n",
       "        vertical-align: middle;\n",
       "    }\n",
       "\n",
       "    .dataframe tbody tr th {\n",
       "        vertical-align: top;\n",
       "    }\n",
       "\n",
       "    .dataframe thead th {\n",
       "        text-align: right;\n",
       "    }\n",
       "</style>\n",
       "<table border=\"1\" class=\"dataframe\">\n",
       "  <thead>\n",
       "    <tr style=\"text-align: right;\">\n",
       "      <th></th>\n",
       "      <th>quantity</th>\n",
       "      <th>unit_price</th>\n",
       "      <th>item_total_price</th>\n",
       "      <th>total_price</th>\n",
       "    </tr>\n",
       "  </thead>\n",
       "  <tbody>\n",
       "    <tr>\n",
       "      <th>0</th>\n",
       "      <td>10</td>\n",
       "      <td>25.04</td>\n",
       "      <td>292.91</td>\n",
       "      <td>1613.53</td>\n",
       "    </tr>\n",
       "    <tr>\n",
       "      <th>1</th>\n",
       "      <td>20</td>\n",
       "      <td>12.33</td>\n",
       "      <td>287.19</td>\n",
       "      <td>11163.69</td>\n",
       "    </tr>\n",
       "    <tr>\n",
       "      <th>2</th>\n",
       "      <td>12</td>\n",
       "      <td>12.80</td>\n",
       "      <td>184.84</td>\n",
       "      <td>6432.12</td>\n",
       "    </tr>\n",
       "    <tr>\n",
       "      <th>3</th>\n",
       "      <td>18</td>\n",
       "      <td>10.51</td>\n",
       "      <td>189.18</td>\n",
       "      <td>831.82</td>\n",
       "    </tr>\n",
       "    <tr>\n",
       "      <th>4</th>\n",
       "      <td>5</td>\n",
       "      <td>11.82</td>\n",
       "      <td>66.87</td>\n",
       "      <td>1736.48</td>\n",
       "    </tr>\n",
       "  </tbody>\n",
       "</table>\n",
       "</div>"
      ],
      "text/plain": [
       "   quantity  unit_price  item_total_price  total_price\n",
       "0        10       25.04            292.91      1613.53\n",
       "1        20       12.33            287.19     11163.69\n",
       "2        12       12.80            184.84      6432.12\n",
       "3        18       10.51            189.18       831.82\n",
       "4         5       11.82             66.87      1736.48"
      ]
     },
     "execution_count": 7,
     "metadata": {},
     "output_type": "execute_result"
    }
   ],
   "source": [
    "num_variables = ['quantity', 'unit_price', 'item_total_price', 'total_price']\n",
    "df[num_variables].head()"
   ]
  },
  {
   "cell_type": "code",
   "execution_count": 8,
   "metadata": {},
   "outputs": [
    {
     "data": {
      "text/html": [
       "<div>\n",
       "<style scoped>\n",
       "    .dataframe tbody tr th:only-of-type {\n",
       "        vertical-align: middle;\n",
       "    }\n",
       "\n",
       "    .dataframe tbody tr th {\n",
       "        vertical-align: top;\n",
       "    }\n",
       "\n",
       "    .dataframe thead th {\n",
       "        text-align: right;\n",
       "    }\n",
       "</style>\n",
       "<table border=\"1\" class=\"dataframe\">\n",
       "  <thead>\n",
       "    <tr style=\"text-align: right;\">\n",
       "      <th></th>\n",
       "      <th>quantity</th>\n",
       "      <th>unit_price</th>\n",
       "      <th>item_total_price</th>\n",
       "      <th>total_price</th>\n",
       "    </tr>\n",
       "  </thead>\n",
       "  <tbody>\n",
       "    <tr>\n",
       "      <th>count</th>\n",
       "      <td>204428.000000</td>\n",
       "      <td>204428.000000</td>\n",
       "      <td>204428.000000</td>\n",
       "      <td>204428.000000</td>\n",
       "    </tr>\n",
       "    <tr>\n",
       "      <th>mean</th>\n",
       "      <td>12.332694</td>\n",
       "      <td>47.456664</td>\n",
       "      <td>304.048244</td>\n",
       "      <td>5337.072931</td>\n",
       "    </tr>\n",
       "    <tr>\n",
       "      <th>std</th>\n",
       "      <td>53.299314</td>\n",
       "      <td>145.295694</td>\n",
       "      <td>1009.268287</td>\n",
       "      <td>21268.855032</td>\n",
       "    </tr>\n",
       "    <tr>\n",
       "      <th>min</th>\n",
       "      <td>1.000000</td>\n",
       "      <td>0.010000</td>\n",
       "      <td>0.000000</td>\n",
       "      <td>0.010000</td>\n",
       "    </tr>\n",
       "    <tr>\n",
       "      <th>25%</th>\n",
       "      <td>3.000000</td>\n",
       "      <td>14.670000</td>\n",
       "      <td>79.600000</td>\n",
       "      <td>1180.470000</td>\n",
       "    </tr>\n",
       "    <tr>\n",
       "      <th>50%</th>\n",
       "      <td>6.000000</td>\n",
       "      <td>21.780000</td>\n",
       "      <td>156.150000</td>\n",
       "      <td>2035.820000</td>\n",
       "    </tr>\n",
       "    <tr>\n",
       "      <th>75%</th>\n",
       "      <td>12.000000</td>\n",
       "      <td>46.720000</td>\n",
       "      <td>293.862500</td>\n",
       "      <td>3611.070000</td>\n",
       "    </tr>\n",
       "    <tr>\n",
       "      <th>max</th>\n",
       "      <td>7000.000000</td>\n",
       "      <td>26280.000000</td>\n",
       "      <td>102951.110000</td>\n",
       "      <td>428976.460000</td>\n",
       "    </tr>\n",
       "  </tbody>\n",
       "</table>\n",
       "</div>"
      ],
      "text/plain": [
       "            quantity     unit_price  item_total_price    total_price\n",
       "count  204428.000000  204428.000000     204428.000000  204428.000000\n",
       "mean       12.332694      47.456664        304.048244    5337.072931\n",
       "std        53.299314     145.295694       1009.268287   21268.855032\n",
       "min         1.000000       0.010000          0.000000       0.010000\n",
       "25%         3.000000      14.670000         79.600000    1180.470000\n",
       "50%         6.000000      21.780000        156.150000    2035.820000\n",
       "75%        12.000000      46.720000        293.862500    3611.070000\n",
       "max      7000.000000   26280.000000     102951.110000  428976.460000"
      ]
     },
     "execution_count": 8,
     "metadata": {},
     "output_type": "execute_result"
    }
   ],
   "source": [
    "df[num_variables].describe()"
   ]
  },
  {
   "cell_type": "markdown",
   "metadata": {},
   "source": [
    "Looking at the **mean** and **maximum** values of these variables, it seems that they have a long tail on the right side of the distribution. In other words, they are not Gaussians. Therefore, it is better to plot their histograms using the log scale in the **y** axis."
   ]
  },
  {
   "cell_type": "code",
   "execution_count": 9,
   "metadata": {},
   "outputs": [
    {
     "data": {
      "image/png": "[encoded data removed]",
      "text/plain": [
       "<Figure size 576x360 with 4 Axes>"
      ]
     },
     "metadata": {
      "needs_background": "light"
     },
     "output_type": "display_data"
    }
   ],
   "source": [
    "fig, axs = plt.subplots(2,2, figsize=(8,5))\n",
    "fig.subplots_adjust(hspace = .5, wspace=.3)\n",
    "axs = axs.ravel()\n",
    "\n",
    "for i in range(len(axs)):\n",
    "    axs[i].hist(df[num_variables[i]], bins=100)\n",
    "    axs[i].set_yscale('log')\n",
    "    axs[i].xaxis.set_tick_params(rotation=15)\n",
    "    title = str(num_variables[i])\n",
    "    axs[i].set_title(title)\n",
    "    \n",
    "plt.show()"
   ]
  },
  {
   "cell_type": "code",
   "execution_count": 10,
   "metadata": {},
   "outputs": [
    {
     "data": {
      "text/html": [
       "<div>\n",
       "<style scoped>\n",
       "    .dataframe tbody tr th:only-of-type {\n",
       "        vertical-align: middle;\n",
       "    }\n",
       "\n",
       "    .dataframe tbody tr th {\n",
       "        vertical-align: top;\n",
       "    }\n",
       "\n",
       "    .dataframe thead th {\n",
       "        text-align: right;\n",
       "    }\n",
       "</style>\n",
       "<table border=\"1\" class=\"dataframe\">\n",
       "  <thead>\n",
       "    <tr style=\"text-align: right;\">\n",
       "      <th></th>\n",
       "      <th>quantity</th>\n",
       "      <th>unit_price</th>\n",
       "      <th>item_total_price</th>\n",
       "      <th>total_price</th>\n",
       "    </tr>\n",
       "  </thead>\n",
       "  <tbody>\n",
       "    <tr>\n",
       "      <th>quantity</th>\n",
       "      <td>1.000000</td>\n",
       "      <td>0.070669</td>\n",
       "      <td>0.812810</td>\n",
       "      <td>0.364738</td>\n",
       "    </tr>\n",
       "    <tr>\n",
       "      <th>unit_price</th>\n",
       "      <td>0.070669</td>\n",
       "      <td>1.000000</td>\n",
       "      <td>0.143447</td>\n",
       "      <td>0.036071</td>\n",
       "    </tr>\n",
       "    <tr>\n",
       "      <th>item_total_price</th>\n",
       "      <td>0.812810</td>\n",
       "      <td>0.143447</td>\n",
       "      <td>1.000000</td>\n",
       "      <td>0.402906</td>\n",
       "    </tr>\n",
       "    <tr>\n",
       "      <th>total_price</th>\n",
       "      <td>0.364738</td>\n",
       "      <td>0.036071</td>\n",
       "      <td>0.402906</td>\n",
       "      <td>1.000000</td>\n",
       "    </tr>\n",
       "  </tbody>\n",
       "</table>\n",
       "</div>"
      ],
      "text/plain": [
       "                  quantity  unit_price  item_total_price  total_price\n",
       "quantity          1.000000    0.070669          0.812810     0.364738\n",
       "unit_price        0.070669    1.000000          0.143447     0.036071\n",
       "item_total_price  0.812810    0.143447          1.000000     0.402906\n",
       "total_price       0.364738    0.036071          0.402906     1.000000"
      ]
     },
     "execution_count": 10,
     "metadata": {},
     "output_type": "execute_result"
    }
   ],
   "source": [
    "# Calculating the correlation matrix\n",
    "num_corr = df[num_variables].corr(method='pearson')\n",
    "num_corr"
   ]
  },
  {
   "cell_type": "code",
   "execution_count": 11,
   "metadata": {},
   "outputs": [
    {
     "data": {
      "image/png": "[encoded data removed]",
      "text/plain": [
       "<Figure size 432x288 with 2 Axes>"
      ]
     },
     "metadata": {
      "needs_background": "light"
     },
     "output_type": "display_data"
    }
   ],
   "source": [
    "num_corr = num_corr.where(np.tril(np.ones(num_corr.shape)).astype(np.bool))\n",
    "\n",
    "plt.imshow(num_corr, cmap=plt.cm.Reds, interpolation='nearest')\n",
    "tick_marks = [i for i in range(len(num_variables))]\n",
    "plt.xticks(tick_marks, num_variables, rotation='45')\n",
    "plt.yticks(tick_marks, num_variables)\n",
    "plt.title('Pearson Correlation')\n",
    "plt.colorbar()\n",
    "plt.show()"
   ]
  },
  {
   "cell_type": "markdown",
   "metadata": {},
   "source": [
    "Biggest correlation is between the **quantity** and **item_total_price** variables."
   ]
  },
  {
   "cell_type": "markdown",
   "metadata": {},
   "source": [
    "## Categorical Variables: \n",
    "\n",
    "* **branch_id**: the branch id where this order was made;\n",
    "* **sales_channel**: the sales channel this order was made;\n",
    "* **group_code**: which group this customer belongs;\n",
    "* **segment_code**: segment this client belongs;\n",
    "* **is_churn**: True, if we believe the client will not come back."
   ]
  },
  {
   "cell_type": "code",
   "execution_count": 12,
   "metadata": {},
   "outputs": [
    {
     "name": "stdout",
     "output_type": "stream",
     "text": [
      "Number of unique values in each categorical variable:\n",
      "\n",
      "branch_id: 1\n",
      "sales_channel: 106\n",
      "group_code: 4\n",
      "segment_code: 8\n",
      "is_churn: 2\n",
      "\n"
     ]
    }
   ],
   "source": [
    "cat_variables = ['branch_id', 'sales_channel', 'group_code', 'segment_code', 'is_churn']\n",
    "\n",
    "print('Number of unique values in each categorical variable:\\n')\n",
    "for var in cat_variables:\n",
    "    n_unique = df[var].nunique()\n",
    "    print('%s: %i' % (var, n_unique))\n",
    "print('')"
   ]
  },
  {
   "cell_type": "markdown",
   "metadata": {},
   "source": [
    "**NOTES:**\n",
    "* The **branch_id** has only one unique value for the entire dataset, this won't add information in any model. \n",
    "* The variable **sales_channel** has more than a 100 unique values and deserves a more specific study. \n",
    "\n",
    "So let's skip these two features, for now, and concentrate on the others."
   ]
  },
  {
   "cell_type": "code",
   "execution_count": 13,
   "metadata": {},
   "outputs": [
    {
     "data": {
      "image/png": "[encoded data removed]",
      "text/plain": [
       "<Figure size 936x288 with 3 Axes>"
      ]
     },
     "metadata": {
      "needs_background": "light"
     },
     "output_type": "display_data"
    }
   ],
   "source": [
    "cat_variables = ['group_code', 'segment_code', 'is_churn']\n",
    "\n",
    "fig, axs = plt.subplots(1,3, figsize=(13,4))\n",
    "fig.subplots_adjust(hspace = .5, wspace=.3)\n",
    "axs = axs.ravel()\n",
    "\n",
    "for i, var in enumerate(cat_variables):\n",
    "    df.groupby(var)[var].size().plot(ax = axs[i], kind='bar', color='b', alpha=0.6)"
   ]
  },
  {
   "cell_type": "markdown",
   "metadata": {},
   "source": [
    "The bar plot of the **is_churn** variable tells that the dataset in very unbalanced."
   ]
  },
  {
   "cell_type": "markdown",
   "metadata": {},
   "source": [
    "## Customer Group Statistcs"
   ]
  },
  {
   "cell_type": "code",
   "execution_count": 14,
   "metadata": {},
   "outputs": [
    {
     "name": "stdout",
     "output_type": "stream",
     "text": [
      "=======================\n",
      "Quantity per Group Code:\n",
      "=======================\n"
     ]
    },
    {
     "data": {
      "text/html": [
       "<div>\n",
       "<style scoped>\n",
       "    .dataframe tbody tr th:only-of-type {\n",
       "        vertical-align: middle;\n",
       "    }\n",
       "\n",
       "    .dataframe tbody tr th {\n",
       "        vertical-align: top;\n",
       "    }\n",
       "\n",
       "    .dataframe thead th {\n",
       "        text-align: right;\n",
       "    }\n",
       "</style>\n",
       "<table border=\"1\" class=\"dataframe\">\n",
       "  <thead>\n",
       "    <tr style=\"text-align: right;\">\n",
       "      <th></th>\n",
       "      <th>count</th>\n",
       "      <th>mean</th>\n",
       "      <th>std</th>\n",
       "      <th>min</th>\n",
       "      <th>25%</th>\n",
       "      <th>50%</th>\n",
       "      <th>75%</th>\n",
       "      <th>max</th>\n",
       "    </tr>\n",
       "    <tr>\n",
       "      <th>group_code</th>\n",
       "      <th></th>\n",
       "      <th></th>\n",
       "      <th></th>\n",
       "      <th></th>\n",
       "      <th></th>\n",
       "      <th></th>\n",
       "      <th></th>\n",
       "      <th></th>\n",
       "    </tr>\n",
       "  </thead>\n",
       "  <tbody>\n",
       "    <tr>\n",
       "      <th>0</th>\n",
       "      <td>170164.0</td>\n",
       "      <td>9.013123</td>\n",
       "      <td>26.289848</td>\n",
       "      <td>1.0</td>\n",
       "      <td>3.0</td>\n",
       "      <td>6.0</td>\n",
       "      <td>12.0</td>\n",
       "      <td>7000.0</td>\n",
       "    </tr>\n",
       "    <tr>\n",
       "      <th>1</th>\n",
       "      <td>7646.0</td>\n",
       "      <td>97.388962</td>\n",
       "      <td>225.245735</td>\n",
       "      <td>1.0</td>\n",
       "      <td>10.0</td>\n",
       "      <td>30.0</td>\n",
       "      <td>80.0</td>\n",
       "      <td>4800.0</td>\n",
       "    </tr>\n",
       "    <tr>\n",
       "      <th>2</th>\n",
       "      <td>24703.0</td>\n",
       "      <td>9.044893</td>\n",
       "      <td>26.411366</td>\n",
       "      <td>1.0</td>\n",
       "      <td>1.0</td>\n",
       "      <td>3.0</td>\n",
       "      <td>10.0</td>\n",
       "      <td>1060.0</td>\n",
       "    </tr>\n",
       "    <tr>\n",
       "      <th>3</th>\n",
       "      <td>1915.0</td>\n",
       "      <td>10.113316</td>\n",
       "      <td>17.078502</td>\n",
       "      <td>1.0</td>\n",
       "      <td>2.0</td>\n",
       "      <td>6.0</td>\n",
       "      <td>12.0</td>\n",
       "      <td>400.0</td>\n",
       "    </tr>\n",
       "  </tbody>\n",
       "</table>\n",
       "</div>"
      ],
      "text/plain": [
       "               count       mean         std  min   25%   50%   75%     max\n",
       "group_code                                                                \n",
       "0           170164.0   9.013123   26.289848  1.0   3.0   6.0  12.0  7000.0\n",
       "1             7646.0  97.388962  225.245735  1.0  10.0  30.0  80.0  4800.0\n",
       "2            24703.0   9.044893   26.411366  1.0   1.0   3.0  10.0  1060.0\n",
       "3             1915.0  10.113316   17.078502  1.0   2.0   6.0  12.0   400.0"
      ]
     },
     "execution_count": 14,
     "metadata": {},
     "output_type": "execute_result"
    }
   ],
   "source": [
    "stat_group = df.groupby(['group_code'])['quantity'].describe()\n",
    "\n",
    "print '======================='\n",
    "print 'Quantity per Group Code:'\n",
    "print '======================='\n",
    "stat_group"
   ]
  },
  {
   "cell_type": "code",
   "execution_count": 22,
   "metadata": {},
   "outputs": [
    {
     "data": {
      "image/png": "[encoded data removed]",
      "text/plain": [
       "<Figure size 792x504 with 4 Axes>"
      ]
     },
     "metadata": {
      "needs_background": "light"
     },
     "output_type": "display_data"
    }
   ],
   "source": [
    "import seaborn as sns\n",
    "\n",
    "plt.figure(figsize=(11,7))\n",
    "\n",
    "plt.subplot(221)\n",
    "plt.title('Group 0')\n",
    "plt.xlabel('Quantity')\n",
    "sns.distplot(df[df['group_code'] == 0]['quantity'].values, label='Group 0')\n",
    "\n",
    "plt.subplot(222)\n",
    "plt.title('Group 1')\n",
    "plt.xlabel('Quantity')\n",
    "sns.distplot(df[df['group_code'] == 1]['quantity'].values, label='Group 1')\n",
    "\n",
    "plt.subplot(223)\n",
    "plt.title('Group 2')\n",
    "plt.xlabel('Quantity')\n",
    "sns.distplot(df[df['group_code'] == 2]['quantity'].values, label='Group 2')\n",
    "\n",
    "plt.subplot(224)\n",
    "plt.title('Group 3')\n",
    "plt.xlabel('Quantity')\n",
    "sns.distplot(df[df['group_code'] == 3]['quantity'].values, label='Group 3')\n",
    "\n",
    "plt.tight_layout()\n",
    "plt.show()"
   ]
  },
  {
   "cell_type": "code",
   "execution_count": 16,
   "metadata": {},
   "outputs": [
    {
     "name": "stdout",
     "output_type": "stream",
     "text": [
      "==========================\n",
      "Unit Price per Group Code:\n",
      "==========================\n"
     ]
    },
    {
     "data": {
      "text/html": [
       "<div>\n",
       "<style scoped>\n",
       "    .dataframe tbody tr th:only-of-type {\n",
       "        vertical-align: middle;\n",
       "    }\n",
       "\n",
       "    .dataframe tbody tr th {\n",
       "        vertical-align: top;\n",
       "    }\n",
       "\n",
       "    .dataframe thead th {\n",
       "        text-align: right;\n",
       "    }\n",
       "</style>\n",
       "<table border=\"1\" class=\"dataframe\">\n",
       "  <thead>\n",
       "    <tr style=\"text-align: right;\">\n",
       "      <th></th>\n",
       "      <th>count</th>\n",
       "      <th>mean</th>\n",
       "      <th>std</th>\n",
       "      <th>min</th>\n",
       "      <th>25%</th>\n",
       "      <th>50%</th>\n",
       "      <th>75%</th>\n",
       "      <th>max</th>\n",
       "    </tr>\n",
       "    <tr>\n",
       "      <th>group_code</th>\n",
       "      <th></th>\n",
       "      <th></th>\n",
       "      <th></th>\n",
       "      <th></th>\n",
       "      <th></th>\n",
       "      <th></th>\n",
       "      <th></th>\n",
       "      <th></th>\n",
       "    </tr>\n",
       "  </thead>\n",
       "  <tbody>\n",
       "    <tr>\n",
       "      <th>0</th>\n",
       "      <td>170164.0</td>\n",
       "      <td>46.563045</td>\n",
       "      <td>80.096774</td>\n",
       "      <td>0.01</td>\n",
       "      <td>15.440</td>\n",
       "      <td>22.53</td>\n",
       "      <td>47.380</td>\n",
       "      <td>4876.80</td>\n",
       "    </tr>\n",
       "    <tr>\n",
       "      <th>1</th>\n",
       "      <td>7646.0</td>\n",
       "      <td>64.419347</td>\n",
       "      <td>613.619785</td>\n",
       "      <td>0.91</td>\n",
       "      <td>13.340</td>\n",
       "      <td>20.57</td>\n",
       "      <td>39.900</td>\n",
       "      <td>26280.00</td>\n",
       "    </tr>\n",
       "    <tr>\n",
       "      <th>2</th>\n",
       "      <td>24703.0</td>\n",
       "      <td>48.209071</td>\n",
       "      <td>114.962001</td>\n",
       "      <td>0.01</td>\n",
       "      <td>7.730</td>\n",
       "      <td>16.35</td>\n",
       "      <td>42.120</td>\n",
       "      <td>3115.00</td>\n",
       "    </tr>\n",
       "    <tr>\n",
       "      <th>3</th>\n",
       "      <td>1915.0</td>\n",
       "      <td>49.429723</td>\n",
       "      <td>93.000485</td>\n",
       "      <td>0.01</td>\n",
       "      <td>14.865</td>\n",
       "      <td>21.99</td>\n",
       "      <td>49.365</td>\n",
       "      <td>1513.57</td>\n",
       "    </tr>\n",
       "  </tbody>\n",
       "</table>\n",
       "</div>"
      ],
      "text/plain": [
       "               count       mean         std   min     25%    50%     75%  \\\n",
       "group_code                                                                 \n",
       "0           170164.0  46.563045   80.096774  0.01  15.440  22.53  47.380   \n",
       "1             7646.0  64.419347  613.619785  0.91  13.340  20.57  39.900   \n",
       "2            24703.0  48.209071  114.962001  0.01   7.730  16.35  42.120   \n",
       "3             1915.0  49.429723   93.000485  0.01  14.865  21.99  49.365   \n",
       "\n",
       "                 max  \n",
       "group_code            \n",
       "0            4876.80  \n",
       "1           26280.00  \n",
       "2            3115.00  \n",
       "3            1513.57  "
      ]
     },
     "execution_count": 16,
     "metadata": {},
     "output_type": "execute_result"
    }
   ],
   "source": [
    "stat_group = df.groupby(['group_code'])['unit_price'].describe()\n",
    "\n",
    "print '=========================='\n",
    "print 'Unit Price per Group Code:'\n",
    "print '=========================='\n",
    "stat_group"
   ]
  },
  {
   "cell_type": "code",
   "execution_count": 17,
   "metadata": {},
   "outputs": [
    {
     "data": {
      "image/png": "[encoded data removed]",
      "text/plain": [
       "<Figure size 792x504 with 4 Axes>"
      ]
     },
     "metadata": {
      "needs_background": "light"
     },
     "output_type": "display_data"
    }
   ],
   "source": [
    "plt.figure(figsize=(11,7))\n",
    "\n",
    "plt.subplot(221)\n",
    "plt.title('Group 0')\n",
    "plt.xlabel('Unit Price')\n",
    "sns.distplot(df[df['group_code'] == 0]['unit_price'].values, label='Group 0')\n",
    "\n",
    "plt.subplot(222)\n",
    "plt.title('Group 1')\n",
    "plt.xlabel('Unit Price')\n",
    "sns.distplot(df[df['group_code'] == 1]['unit_price'].values, label='Group 1')\n",
    "\n",
    "plt.subplot(223)\n",
    "plt.title('Group 2')\n",
    "plt.xlabel('Unit Price')\n",
    "sns.distplot(df[df['group_code'] == 2]['unit_price'].values, label='Group 2')\n",
    "\n",
    "plt.subplot(224)\n",
    "plt.title('Group 3')\n",
    "plt.xlabel('Unit Price')\n",
    "sns.distplot(df[df['group_code'] == 3]['unit_price'].values, label='Group 3')\n",
    "\n",
    "plt.tight_layout()\n",
    "plt.show()"
   ]
  },
  {
   "cell_type": "markdown",
   "metadata": {},
   "source": [
    "The group analysis couldn't spot a clear pattern of quantity and items price for each group of customers. All the distributions have large tails on the right side. Therefore, the values of **mean** and **std** of the described statistcs are not reliable, since the distribution is not Gaussian."
   ]
  },
  {
   "cell_type": "markdown",
   "metadata": {},
   "source": [
    "## Timestamp Variable\n",
    "\n",
    "* **register_date**: date of the order;"
   ]
  },
  {
   "cell_type": "code",
   "execution_count": 18,
   "metadata": {},
   "outputs": [
    {
     "data": {
      "text/plain": [
       "0    2017-11-10T00:00:00Z\n",
       "1    2011-05-16T00:00:00Z\n",
       "2    2018-01-24T00:00:00Z\n",
       "3    2010-07-28T00:00:00Z\n",
       "4    2010-12-17T00:00:00Z\n",
       "Name: register_date, dtype: object"
      ]
     },
     "execution_count": 18,
     "metadata": {},
     "output_type": "execute_result"
    }
   ],
   "source": [
    "df['register_date'].head()"
   ]
  },
  {
   "cell_type": "markdown",
   "metadata": {},
   "source": [
    "Converting the **register_date** variable to the pandas *datetime* format."
   ]
  },
  {
   "cell_type": "code",
   "execution_count": 19,
   "metadata": {},
   "outputs": [],
   "source": [
    "df['register_date'] = pd.to_datetime(df['register_date'], format='%Y-%m-%dT%H:%M:%SZ')"
   ]
  },
  {
   "cell_type": "code",
   "execution_count": 20,
   "metadata": {},
   "outputs": [
    {
     "data": {
      "text/plain": [
       "0   2017-11-10\n",
       "1   2011-05-16\n",
       "2   2018-01-24\n",
       "3   2010-07-28\n",
       "4   2010-12-17\n",
       "Name: register_date, dtype: datetime64[ns]"
      ]
     },
     "execution_count": 20,
     "metadata": {},
     "output_type": "execute_result"
    }
   ],
   "source": [
    "df['register_date'].head()"
   ]
  },
  {
   "cell_type": "code",
   "execution_count": 21,
   "metadata": {},
   "outputs": [
    {
     "name": "stdout",
     "output_type": "stream",
     "text": [
      "Date of the first register: 2008-01-04\n",
      "Date of the last register: 2018-07-08\n",
      "\n",
      "Total: 3838 days\n"
     ]
    }
   ],
   "source": [
    "min_register_date = min(df['register_date'])\n",
    "max_register_date = max(df['register_date'])\n",
    "\n",
    "print('Date of the first register: %s' % str(min_register_date.date()))\n",
    "print('Date of the last register: %s\\n' % str(max_register_date.date()))\n",
    "\n",
    "time_interval = (max_register_date - min_register_date).days\n",
    "print('Total: %s days' % str(time_interval))"
   ]
  },
  {
   "cell_type": "markdown",
   "metadata": {},
   "source": []
  }
 ],
 "metadata": {
  "kernelspec": {
   "display_name": "Python 2",
   "language": "python",
   "name": "python2"
  },
  "language_info": {
   "codemirror_mode": {
    "name": "ipython",
    "version": 2
   },
   "file_extension": ".py",
   "mimetype": "text/x-python",
   "name": "python",
   "nbconvert_exporter": "python",
   "pygments_lexer": "ipython2",
   "version": "2.7.14"
  }
 },
 "nbformat": 4,
 "nbformat_minor": 2
}
