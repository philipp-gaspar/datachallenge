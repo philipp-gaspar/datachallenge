{
 "cells": [
  {
   "cell_type": "markdown",
   "metadata": {},
   "source": [
    "# Churn Analysis - Time Related\n",
    "\n",
    "In this notebook I'll create new **time-related variables** that hopefully will capture the possibility of a partilar customer churn, or not, the company. First is important to keep in mind that the dataset is originally presented in a **transactional level**, in other words, every line corresponds to transaction made by a customer in a particular date. In order to proceed with the churn analysis, one has to transform the dataset to a **summary level**, where every line corresponds to a specific customer. To complete this task, some data preprocessing has to be made. "
   ]
  },
  {
   "cell_type": "code",
   "execution_count": 1,
   "metadata": {},
   "outputs": [],
   "source": [
    "import os\n",
    "import pandas as pd\n",
    "import numpy as np\n",
    "import matplotlib.pyplot as plt\n",
    "%matplotlib inline\n",
    "import seaborn as sns\n",
    "\n",
    "# Folders\n",
    "analysis_folder = os.getcwd()\n",
    "input_data = os.path.join(analysis_folder, 'challenge.json')\n",
    "\n",
    "# Open dataset (transactional level)\n",
    "df_original = pd.read_json(input_data)"
   ]
  },
  {
   "cell_type": "markdown",
   "metadata": {},
   "source": [
    "## Time Variable\n",
    "Converting the `register_date` variable to the pandas *datetime* format."
   ]
  },
  {
   "cell_type": "code",
   "execution_count": 2,
   "metadata": {},
   "outputs": [],
   "source": [
    "datetime_format = '%Y-%m-%dT%H:%M:%SZ'\n",
    "df_original['register_date'] = pd.to_datetime(df_original['register_date'], format=datetime_format)"
   ]
  },
  {
   "cell_type": "markdown",
   "metadata": {},
   "source": [
    "## Feature Engineering\n",
    "\n",
    "In order to create the new variables I'll need the identification of each customer and the date of transaction, this could be found in the `customer_code` and `register_date`. In addition, one can also process numerical variables as the average value throughout an order. \n",
    "\n",
    "The numerical variables that I choose are `quantity`, `unit_price` and `total_price`."
   ]
  },
  {
   "cell_type": "code",
   "execution_count": 3,
   "metadata": {},
   "outputs": [
    {
     "data": {
      "text/html": [
       "<div>\n",
       "<style scoped>\n",
       "    .dataframe tbody tr th:only-of-type {\n",
       "        vertical-align: middle;\n",
       "    }\n",
       "\n",
       "    .dataframe tbody tr th {\n",
       "        vertical-align: top;\n",
       "    }\n",
       "\n",
       "    .dataframe thead th {\n",
       "        text-align: right;\n",
       "    }\n",
       "</style>\n",
       "<table border=\"1\" class=\"dataframe\">\n",
       "  <thead>\n",
       "    <tr style=\"text-align: right;\">\n",
       "      <th></th>\n",
       "      <th>customer_code</th>\n",
       "      <th>register_date</th>\n",
       "      <th>quantity</th>\n",
       "      <th>unit_price</th>\n",
       "      <th>total_price</th>\n",
       "    </tr>\n",
       "  </thead>\n",
       "  <tbody>\n",
       "    <tr>\n",
       "      <th>45647</th>\n",
       "      <td>837</td>\n",
       "      <td>2018-06-25</td>\n",
       "      <td>3</td>\n",
       "      <td>5.94</td>\n",
       "      <td>1201.36</td>\n",
       "    </tr>\n",
       "    <tr>\n",
       "      <th>78870</th>\n",
       "      <td>837</td>\n",
       "      <td>2018-06-25</td>\n",
       "      <td>6</td>\n",
       "      <td>15.57</td>\n",
       "      <td>1201.36</td>\n",
       "    </tr>\n",
       "    <tr>\n",
       "      <th>105681</th>\n",
       "      <td>837</td>\n",
       "      <td>2018-06-25</td>\n",
       "      <td>1</td>\n",
       "      <td>89.68</td>\n",
       "      <td>1201.36</td>\n",
       "    </tr>\n",
       "    <tr>\n",
       "      <th>179936</th>\n",
       "      <td>837</td>\n",
       "      <td>2018-06-25</td>\n",
       "      <td>1</td>\n",
       "      <td>69.93</td>\n",
       "      <td>1201.36</td>\n",
       "    </tr>\n",
       "    <tr>\n",
       "      <th>193661</th>\n",
       "      <td>837</td>\n",
       "      <td>2018-06-25</td>\n",
       "      <td>6</td>\n",
       "      <td>23.77</td>\n",
       "      <td>1201.36</td>\n",
       "    </tr>\n",
       "  </tbody>\n",
       "</table>\n",
       "</div>"
      ],
      "text/plain": [
       "        customer_code register_date  quantity  unit_price  total_price\n",
       "45647             837    2018-06-25         3        5.94      1201.36\n",
       "78870             837    2018-06-25         6       15.57      1201.36\n",
       "105681            837    2018-06-25         1       89.68      1201.36\n",
       "179936            837    2018-06-25         1       69.93      1201.36\n",
       "193661            837    2018-06-25         6       23.77      1201.36"
      ]
     },
     "execution_count": 3,
     "metadata": {},
     "output_type": "execute_result"
    }
   ],
   "source": [
    "numerical_features = ['quantity', 'unit_price', 'total_price']\n",
    "summary_features = ['customer_code', 'register_date']\n",
    "\n",
    "total_features = summary_features + numerical_features\n",
    "\n",
    "# sort dataset according with the customer ID and the date of the transaction\n",
    "df = df_original[total_features].sort_values(summary_features).copy()\n",
    "\n",
    "df.tail()"
   ]
  },
  {
   "cell_type": "markdown",
   "metadata": {},
   "source": [
    "<span style=\"color:red\"> **NOTE** </span>: The `total_price` variable seems to have the same value for a particular `customer_code` and `register_date`. \n",
    "\n",
    "Let's check this behavior!"
   ]
  },
  {
   "cell_type": "code",
   "execution_count": 4,
   "metadata": {},
   "outputs": [
    {
     "data": {
      "text/html": [
       "<div>\n",
       "<style scoped>\n",
       "    .dataframe tbody tr th:only-of-type {\n",
       "        vertical-align: middle;\n",
       "    }\n",
       "\n",
       "    .dataframe tbody tr th {\n",
       "        vertical-align: top;\n",
       "    }\n",
       "\n",
       "    .dataframe thead th {\n",
       "        text-align: right;\n",
       "    }\n",
       "</style>\n",
       "<table border=\"1\" class=\"dataframe\">\n",
       "  <thead>\n",
       "    <tr style=\"text-align: right;\">\n",
       "      <th></th>\n",
       "      <th>customer_code</th>\n",
       "      <th>register_date</th>\n",
       "      <th>quantity</th>\n",
       "      <th>unit_price</th>\n",
       "      <th>total_price</th>\n",
       "    </tr>\n",
       "  </thead>\n",
       "  <tbody>\n",
       "    <tr>\n",
       "      <th>5446</th>\n",
       "      <td>837</td>\n",
       "      <td>2018-06-25</td>\n",
       "      <td>10</td>\n",
       "      <td>41.36</td>\n",
       "      <td>1201.36</td>\n",
       "    </tr>\n",
       "    <tr>\n",
       "      <th>6778</th>\n",
       "      <td>837</td>\n",
       "      <td>2018-06-25</td>\n",
       "      <td>2</td>\n",
       "      <td>17.89</td>\n",
       "      <td>1201.36</td>\n",
       "    </tr>\n",
       "    <tr>\n",
       "      <th>14205</th>\n",
       "      <td>837</td>\n",
       "      <td>2018-06-25</td>\n",
       "      <td>6</td>\n",
       "      <td>24.92</td>\n",
       "      <td>1201.36</td>\n",
       "    </tr>\n",
       "    <tr>\n",
       "      <th>44685</th>\n",
       "      <td>837</td>\n",
       "      <td>2018-06-25</td>\n",
       "      <td>1</td>\n",
       "      <td>188.99</td>\n",
       "      <td>1201.36</td>\n",
       "    </tr>\n",
       "    <tr>\n",
       "      <th>45647</th>\n",
       "      <td>837</td>\n",
       "      <td>2018-06-25</td>\n",
       "      <td>3</td>\n",
       "      <td>5.94</td>\n",
       "      <td>1201.36</td>\n",
       "    </tr>\n",
       "    <tr>\n",
       "      <th>78870</th>\n",
       "      <td>837</td>\n",
       "      <td>2018-06-25</td>\n",
       "      <td>6</td>\n",
       "      <td>15.57</td>\n",
       "      <td>1201.36</td>\n",
       "    </tr>\n",
       "    <tr>\n",
       "      <th>105681</th>\n",
       "      <td>837</td>\n",
       "      <td>2018-06-25</td>\n",
       "      <td>1</td>\n",
       "      <td>89.68</td>\n",
       "      <td>1201.36</td>\n",
       "    </tr>\n",
       "    <tr>\n",
       "      <th>179936</th>\n",
       "      <td>837</td>\n",
       "      <td>2018-06-25</td>\n",
       "      <td>1</td>\n",
       "      <td>69.93</td>\n",
       "      <td>1201.36</td>\n",
       "    </tr>\n",
       "    <tr>\n",
       "      <th>193661</th>\n",
       "      <td>837</td>\n",
       "      <td>2018-06-25</td>\n",
       "      <td>6</td>\n",
       "      <td>23.77</td>\n",
       "      <td>1201.36</td>\n",
       "    </tr>\n",
       "  </tbody>\n",
       "</table>\n",
       "</div>"
      ],
      "text/plain": [
       "        customer_code register_date  quantity  unit_price  total_price\n",
       "5446              837    2018-06-25        10       41.36      1201.36\n",
       "6778              837    2018-06-25         2       17.89      1201.36\n",
       "14205             837    2018-06-25         6       24.92      1201.36\n",
       "44685             837    2018-06-25         1      188.99      1201.36\n",
       "45647             837    2018-06-25         3        5.94      1201.36\n",
       "78870             837    2018-06-25         6       15.57      1201.36\n",
       "105681            837    2018-06-25         1       89.68      1201.36\n",
       "179936            837    2018-06-25         1       69.93      1201.36\n",
       "193661            837    2018-06-25         6       23.77      1201.36"
      ]
     },
     "execution_count": 4,
     "metadata": {},
     "output_type": "execute_result"
    }
   ],
   "source": [
    "df[(df['customer_code']==837) & (df['register_date']=='2018-06-25')]"
   ]
  },
  {
   "cell_type": "markdown",
   "metadata": {},
   "source": [
    "The `total_price` variable is defined as the sum of the product between the `quantity` and `unit_price` variables for a particular order. An order can be described as all the transactions of a customer in a day. One can see from the snapshot of the dataframe showed above that the customer **837** made a total of **13** transactions during the date **2018-06-25**. We can also infer that the order made by this customer in this date has a total price of **$1201.36**.\n",
    "\n",
    "Therefore, I won't use the `total_price` variable during the feature engineering process, since this varible can be inferred in the **summary level** dataset. But, on the other hand, I'll create a new variable called `items_price` which represents the price paid for the transaction.\n",
    "\n",
    "* **items_price**: Product between the price of the item and the quantity of the item in that transaction."
   ]
  },
  {
   "cell_type": "code",
   "execution_count": 5,
   "metadata": {},
   "outputs": [
    {
     "data": {
      "text/html": [
       "<div>\n",
       "<style scoped>\n",
       "    .dataframe tbody tr th:only-of-type {\n",
       "        vertical-align: middle;\n",
       "    }\n",
       "\n",
       "    .dataframe tbody tr th {\n",
       "        vertical-align: top;\n",
       "    }\n",
       "\n",
       "    .dataframe thead th {\n",
       "        text-align: right;\n",
       "    }\n",
       "</style>\n",
       "<table border=\"1\" class=\"dataframe\">\n",
       "  <thead>\n",
       "    <tr style=\"text-align: right;\">\n",
       "      <th></th>\n",
       "      <th>customer_code</th>\n",
       "      <th>register_date</th>\n",
       "      <th>quantity</th>\n",
       "      <th>items_price</th>\n",
       "    </tr>\n",
       "  </thead>\n",
       "  <tbody>\n",
       "    <tr>\n",
       "      <th>45647</th>\n",
       "      <td>837</td>\n",
       "      <td>2018-06-25</td>\n",
       "      <td>3</td>\n",
       "      <td>17.82</td>\n",
       "    </tr>\n",
       "    <tr>\n",
       "      <th>78870</th>\n",
       "      <td>837</td>\n",
       "      <td>2018-06-25</td>\n",
       "      <td>6</td>\n",
       "      <td>93.42</td>\n",
       "    </tr>\n",
       "    <tr>\n",
       "      <th>105681</th>\n",
       "      <td>837</td>\n",
       "      <td>2018-06-25</td>\n",
       "      <td>1</td>\n",
       "      <td>89.68</td>\n",
       "    </tr>\n",
       "    <tr>\n",
       "      <th>179936</th>\n",
       "      <td>837</td>\n",
       "      <td>2018-06-25</td>\n",
       "      <td>1</td>\n",
       "      <td>69.93</td>\n",
       "    </tr>\n",
       "    <tr>\n",
       "      <th>193661</th>\n",
       "      <td>837</td>\n",
       "      <td>2018-06-25</td>\n",
       "      <td>6</td>\n",
       "      <td>142.62</td>\n",
       "    </tr>\n",
       "  </tbody>\n",
       "</table>\n",
       "</div>"
      ],
      "text/plain": [
       "        customer_code register_date  quantity  items_price\n",
       "45647             837    2018-06-25         3        17.82\n",
       "78870             837    2018-06-25         6        93.42\n",
       "105681            837    2018-06-25         1        89.68\n",
       "179936            837    2018-06-25         1        69.93\n",
       "193661            837    2018-06-25         6       142.62"
      ]
     },
     "execution_count": 5,
     "metadata": {},
     "output_type": "execute_result"
    }
   ],
   "source": [
    "df.drop(labels='total_price', axis=1, inplace=True)\n",
    "\n",
    "# create new feature\n",
    "df.loc[:,'items_price'] = df['quantity'] * df['unit_price']\n",
    "df.drop(labels='unit_price', axis=1, inplace=True)\n",
    "\n",
    "df.tail()"
   ]
  },
  {
   "cell_type": "markdown",
   "metadata": {},
   "source": [
    "### Observation Period\n",
    "To continue with the process of creating time-related features for the **summary level** dataset, one has to define an observation period. To do so, I'll define this period as the time interval from the first transaction order and the creation of the dataset, last transaction order, counting by days."
   ]
  },
  {
   "cell_type": "code",
   "execution_count": 6,
   "metadata": {},
   "outputs": [
    {
     "name": "stdout",
     "output_type": "stream",
     "text": [
      "observation_period_end = 2018-07-08\n"
     ]
    }
   ],
   "source": [
    "# use Pandas DateTimeIndex.to_period() to convert the original Index \n",
    "# to a PeriodIndex which is useful for time-wise grouping and truncating\n",
    "freq = 'D'\n",
    "df = df.set_index('register_date').to_period(freq)\n",
    "\n",
    "observation_period_end = df.index.max()\n",
    "print('observation_period_end = %s' % observation_period_end)\n",
    "\n",
    "# get only data inside the observation period and reset the indexes\n",
    "df = df.loc[(df.index <= observation_period_end)].reset_index()"
   ]
  },
  {
   "cell_type": "markdown",
   "metadata": {},
   "source": [
    "### Group Customers\n",
    "Group the dataset by `customers` and create new features based on the transaction frequency done by each of them. This is a crucial step to transform the dataset from a **transactional level** into a **summary level**."
   ]
  },
  {
   "cell_type": "code",
   "execution_count": 7,
   "metadata": {},
   "outputs": [],
   "source": [
    "# Pandas groupby\n",
    "period_groupby = df.groupby(['register_date', 'customer_code'], sort=False, as_index=False)\n",
    "\n",
    "# Sum numerical values of groupby\n",
    "period_transactions = period_groupby.sum()"
   ]
  },
  {
   "cell_type": "markdown",
   "metadata": {},
   "source": [
    "Note that the dataset now has one order per row and the numerical variables are all summed up, as showed bellow."
   ]
  },
  {
   "cell_type": "code",
   "execution_count": 8,
   "metadata": {},
   "outputs": [
    {
     "data": {
      "text/html": [
       "<div>\n",
       "<style scoped>\n",
       "    .dataframe tbody tr th:only-of-type {\n",
       "        vertical-align: middle;\n",
       "    }\n",
       "\n",
       "    .dataframe tbody tr th {\n",
       "        vertical-align: top;\n",
       "    }\n",
       "\n",
       "    .dataframe thead th {\n",
       "        text-align: right;\n",
       "    }\n",
       "</style>\n",
       "<table border=\"1\" class=\"dataframe\">\n",
       "  <thead>\n",
       "    <tr style=\"text-align: right;\">\n",
       "      <th></th>\n",
       "      <th>register_date</th>\n",
       "      <th>customer_code</th>\n",
       "      <th>quantity</th>\n",
       "      <th>items_price</th>\n",
       "    </tr>\n",
       "  </thead>\n",
       "  <tbody>\n",
       "    <tr>\n",
       "      <th>22040</th>\n",
       "      <td>2016-11-23</td>\n",
       "      <td>837</td>\n",
       "      <td>27</td>\n",
       "      <td>1021.55</td>\n",
       "    </tr>\n",
       "    <tr>\n",
       "      <th>22041</th>\n",
       "      <td>2017-02-09</td>\n",
       "      <td>837</td>\n",
       "      <td>131</td>\n",
       "      <td>13903.74</td>\n",
       "    </tr>\n",
       "    <tr>\n",
       "      <th>22042</th>\n",
       "      <td>2017-08-16</td>\n",
       "      <td>837</td>\n",
       "      <td>43</td>\n",
       "      <td>1121.97</td>\n",
       "    </tr>\n",
       "    <tr>\n",
       "      <th>22043</th>\n",
       "      <td>2017-11-22</td>\n",
       "      <td>837</td>\n",
       "      <td>92</td>\n",
       "      <td>2547.08</td>\n",
       "    </tr>\n",
       "    <tr>\n",
       "      <th>22044</th>\n",
       "      <td>2018-06-25</td>\n",
       "      <td>837</td>\n",
       "      <td>36</td>\n",
       "      <td>1201.36</td>\n",
       "    </tr>\n",
       "  </tbody>\n",
       "</table>\n",
       "</div>"
      ],
      "text/plain": [
       "      register_date  customer_code  quantity  items_price\n",
       "22040    2016-11-23            837        27      1021.55\n",
       "22041    2017-02-09            837       131     13903.74\n",
       "22042    2017-08-16            837        43      1121.97\n",
       "22043    2017-11-22            837        92      2547.08\n",
       "22044    2018-06-25            837        36      1201.36"
      ]
     },
     "execution_count": 8,
     "metadata": {},
     "output_type": "execute_result"
    }
   ],
   "source": [
    "period_transactions.tail()"
   ]
  },
  {
   "cell_type": "markdown",
   "metadata": {},
   "source": [
    "### Create New Time-Related Variables\n",
    "Now I'll present the new time-related variables that could be written from a summary level database (finally!).\n",
    "\n",
    "`n_orders` - Represents the total number of orders made by each customer throughout the entire timespan of the dataset.\n",
    "\n",
    "`age` - The number of days that each customer is under observation. In other words, this is the number of days between the first order made by the customer and the final of the observation period, which for this analysis is the date where the dataset was created.\n",
    "\n",
    "`recency` - The day when the customer realized his/her last order. In other words, it is the most recent order of the dataset."
   ]
  },
  {
   "cell_type": "code",
   "execution_count": 9,
   "metadata": {},
   "outputs": [],
   "source": [
    "# count all orders by customer\n",
    "customers = period_transactions.groupby('customer_code', sort=False)['register_date'].agg(['min', 'max', 'count'])\n",
    "\n",
    "customers['age'] = (observation_period_end - customers['min']) \n",
    "customers['recency'] = (customers['max'] - customers['min'])\n",
    "customers.rename(columns={'count': 'n_orders'}, inplace=True)"
   ]
  },
  {
   "cell_type": "markdown",
   "metadata": {},
   "source": [
    "Now I'll calculate the average value for each numerical feature."
   ]
  },
  {
   "cell_type": "code",
   "execution_count": 10,
   "metadata": {},
   "outputs": [],
   "source": [
    "customers['mean_quantity'] = period_transactions.groupby('customer_code')['quantity'].mean()\n",
    "customers['mean_items_price'] = period_transactions.groupby('customer_code')['items_price'].mean()"
   ]
  },
  {
   "cell_type": "code",
   "execution_count": 11,
   "metadata": {},
   "outputs": [
    {
     "data": {
      "text/html": [
       "<div>\n",
       "<style scoped>\n",
       "    .dataframe tbody tr th:only-of-type {\n",
       "        vertical-align: middle;\n",
       "    }\n",
       "\n",
       "    .dataframe tbody tr th {\n",
       "        vertical-align: top;\n",
       "    }\n",
       "\n",
       "    .dataframe thead th {\n",
       "        text-align: right;\n",
       "    }\n",
       "</style>\n",
       "<table border=\"1\" class=\"dataframe\">\n",
       "  <thead>\n",
       "    <tr style=\"text-align: right;\">\n",
       "      <th></th>\n",
       "      <th>n_orders</th>\n",
       "      <th>recency</th>\n",
       "      <th>age</th>\n",
       "      <th>mean_quantity</th>\n",
       "      <th>mean_items_price</th>\n",
       "    </tr>\n",
       "    <tr>\n",
       "      <th>customer_code</th>\n",
       "      <th></th>\n",
       "      <th></th>\n",
       "      <th></th>\n",
       "      <th></th>\n",
       "      <th></th>\n",
       "    </tr>\n",
       "  </thead>\n",
       "  <tbody>\n",
       "    <tr>\n",
       "      <th>833</th>\n",
       "      <td>26</td>\n",
       "      <td>2495</td>\n",
       "      <td>2603</td>\n",
       "      <td>148.769231</td>\n",
       "      <td>4593.516154</td>\n",
       "    </tr>\n",
       "    <tr>\n",
       "      <th>834</th>\n",
       "      <td>11</td>\n",
       "      <td>1235</td>\n",
       "      <td>2589</td>\n",
       "      <td>65.909091</td>\n",
       "      <td>2489.993636</td>\n",
       "    </tr>\n",
       "    <tr>\n",
       "      <th>835</th>\n",
       "      <td>4</td>\n",
       "      <td>735</td>\n",
       "      <td>2558</td>\n",
       "      <td>59.750000</td>\n",
       "      <td>1284.337500</td>\n",
       "    </tr>\n",
       "    <tr>\n",
       "      <th>836</th>\n",
       "      <td>85</td>\n",
       "      <td>2535</td>\n",
       "      <td>2544</td>\n",
       "      <td>51.517647</td>\n",
       "      <td>6705.313294</td>\n",
       "    </tr>\n",
       "    <tr>\n",
       "      <th>837</th>\n",
       "      <td>13</td>\n",
       "      <td>1928</td>\n",
       "      <td>1941</td>\n",
       "      <td>50.538462</td>\n",
       "      <td>2562.788462</td>\n",
       "    </tr>\n",
       "  </tbody>\n",
       "</table>\n",
       "</div>"
      ],
      "text/plain": [
       "               n_orders recency   age  mean_quantity  mean_items_price\n",
       "customer_code                                                         \n",
       "833                  26    2495  2603     148.769231       4593.516154\n",
       "834                  11    1235  2589      65.909091       2489.993636\n",
       "835                   4     735  2558      59.750000       1284.337500\n",
       "836                  85    2535  2544      51.517647       6705.313294\n",
       "837                  13    1928  1941      50.538462       2562.788462"
      ]
     },
     "execution_count": 11,
     "metadata": {},
     "output_type": "execute_result"
    }
   ],
   "source": [
    "summary_variables = ['n_orders', 'recency', 'age', 'mean_quantity', 'mean_items_price']\n",
    "\n",
    "customers[summary_variables].tail()"
   ]
  },
  {
   "cell_type": "markdown",
   "metadata": {},
   "source": [
    "Finally we have the dataset in a **summary level** format, where each row represents the features for one specific customer. The dataframe has the time-related features that shows an intuition on how frequently the customer makes an order in the company and the numerical variables that represents average quantity of items and the average money spent during the total timespan of the dataset. "
   ]
  },
  {
   "cell_type": "markdown",
   "metadata": {},
   "source": [
    "### Categorical Variables\n",
    "\n",
    "The originl dataframa also has some categorical variables for each customer, let's add them in our brand new dataframe."
   ]
  },
  {
   "cell_type": "code",
   "execution_count": 12,
   "metadata": {},
   "outputs": [],
   "source": [
    "cat_variables = ['customer_code', 'group_code', 'is_churn']"
   ]
  },
  {
   "cell_type": "code",
   "execution_count": 13,
   "metadata": {},
   "outputs": [],
   "source": [
    "summary_variables = ['n_orders', 'recency', 'age', 'mean_quantity', 'mean_items_price', 'group_code', 'is_churn']\n",
    "\n",
    "df = pd.merge(customers, df_original[cat_variables].drop_duplicates(), on='customer_code', how='left')[summary_variables].astype(float)\n",
    "\n",
    "del df_original, customers, period_groupby, period_transactions"
   ]
  },
  {
   "cell_type": "code",
   "execution_count": 14,
   "metadata": {},
   "outputs": [
    {
     "data": {
      "text/html": [
       "<div>\n",
       "<style scoped>\n",
       "    .dataframe tbody tr th:only-of-type {\n",
       "        vertical-align: middle;\n",
       "    }\n",
       "\n",
       "    .dataframe tbody tr th {\n",
       "        vertical-align: top;\n",
       "    }\n",
       "\n",
       "    .dataframe thead th {\n",
       "        text-align: right;\n",
       "    }\n",
       "</style>\n",
       "<table border=\"1\" class=\"dataframe\">\n",
       "  <thead>\n",
       "    <tr style=\"text-align: right;\">\n",
       "      <th></th>\n",
       "      <th>n_orders</th>\n",
       "      <th>recency</th>\n",
       "      <th>age</th>\n",
       "      <th>mean_quantity</th>\n",
       "      <th>mean_items_price</th>\n",
       "      <th>group_code</th>\n",
       "      <th>is_churn</th>\n",
       "    </tr>\n",
       "  </thead>\n",
       "  <tbody>\n",
       "    <tr>\n",
       "      <th>833</th>\n",
       "      <td>26.0</td>\n",
       "      <td>2495.0</td>\n",
       "      <td>2603.0</td>\n",
       "      <td>148.769231</td>\n",
       "      <td>4593.516154</td>\n",
       "      <td>0.0</td>\n",
       "      <td>0.0</td>\n",
       "    </tr>\n",
       "    <tr>\n",
       "      <th>834</th>\n",
       "      <td>11.0</td>\n",
       "      <td>1235.0</td>\n",
       "      <td>2589.0</td>\n",
       "      <td>65.909091</td>\n",
       "      <td>2489.993636</td>\n",
       "      <td>3.0</td>\n",
       "      <td>NaN</td>\n",
       "    </tr>\n",
       "    <tr>\n",
       "      <th>835</th>\n",
       "      <td>4.0</td>\n",
       "      <td>735.0</td>\n",
       "      <td>2558.0</td>\n",
       "      <td>59.750000</td>\n",
       "      <td>1284.337500</td>\n",
       "      <td>0.0</td>\n",
       "      <td>0.0</td>\n",
       "    </tr>\n",
       "    <tr>\n",
       "      <th>836</th>\n",
       "      <td>85.0</td>\n",
       "      <td>2535.0</td>\n",
       "      <td>2544.0</td>\n",
       "      <td>51.517647</td>\n",
       "      <td>6705.313294</td>\n",
       "      <td>0.0</td>\n",
       "      <td>1.0</td>\n",
       "    </tr>\n",
       "    <tr>\n",
       "      <th>837</th>\n",
       "      <td>13.0</td>\n",
       "      <td>1928.0</td>\n",
       "      <td>1941.0</td>\n",
       "      <td>50.538462</td>\n",
       "      <td>2562.788462</td>\n",
       "      <td>0.0</td>\n",
       "      <td>0.0</td>\n",
       "    </tr>\n",
       "  </tbody>\n",
       "</table>\n",
       "</div>"
      ],
      "text/plain": [
       "     n_orders  recency     age  mean_quantity  mean_items_price  group_code  \\\n",
       "833      26.0   2495.0  2603.0     148.769231       4593.516154         0.0   \n",
       "834      11.0   1235.0  2589.0      65.909091       2489.993636         3.0   \n",
       "835       4.0    735.0  2558.0      59.750000       1284.337500         0.0   \n",
       "836      85.0   2535.0  2544.0      51.517647       6705.313294         0.0   \n",
       "837      13.0   1928.0  1941.0      50.538462       2562.788462         0.0   \n",
       "\n",
       "     is_churn  \n",
       "833       0.0  \n",
       "834       NaN  \n",
       "835       0.0  \n",
       "836       1.0  \n",
       "837       0.0  "
      ]
     },
     "execution_count": 14,
     "metadata": {},
     "output_type": "execute_result"
    }
   ],
   "source": [
    "df.tail()"
   ]
  },
  {
   "cell_type": "markdown",
   "metadata": {},
   "source": [
    "With the `group_code` variable and the `is_churn` target, I can start to think on creater a binary classification for the **churn analysis**. But first, let's make some data visualization."
   ]
  },
  {
   "cell_type": "markdown",
   "metadata": {},
   "source": [
    "## Data Visualization\n",
    "\n",
    "### Histograms\n",
    "Let's start the data visualization looking at the histograms for the numerical and time-related variables."
   ]
  },
  {
   "cell_type": "code",
   "execution_count": 15,
   "metadata": {},
   "outputs": [
    {
     "data": {
      "image/png": "[encoded data removed]",
      "text/plain": [
       "<Figure size 1584x216 with 5 Axes>"
      ]
     },
     "metadata": {
      "needs_background": "light"
     },
     "output_type": "display_data"
    }
   ],
   "source": [
    "num_variables = ['n_orders', 'recency', 'age', 'mean_quantity', 'mean_items_price']\n",
    "\n",
    "fig, axs = plt.subplots(1,5, figsize=(22,3))\n",
    "fig.subplots_adjust(hspace = .5, wspace=.3)\n",
    "axs = axs.ravel()\n",
    "\n",
    "for i in range(len(axs)):\n",
    "    axs[i].hist(df[num_variables[i]], bins=100)\n",
    "    axs[i].set_yscale('log')\n",
    "    axs[i].xaxis.set_tick_params(rotation=15)\n",
    "    title = str(num_variables[i])\n",
    "    axs[i].set_title(title)\n",
    "    \n",
    "plt.show()"
   ]
  },
  {
   "cell_type": "markdown",
   "metadata": {},
   "source": [
    "We can spot a few outliers in `n_orders`, `mean_quantity`, `mean_items_price`. Also, none of the numerical variables are Gaussian, and one have to careful when scaling them to feed the Neural Network based model."
   ]
  },
  {
   "cell_type": "code",
   "execution_count": 16,
   "metadata": {},
   "outputs": [
    {
     "name": "stderr",
     "output_type": "stream",
     "text": [
      "/Users/phil/Software/miniconda2/envs/TOTVS/lib/python2.7/site-packages/matplotlib/axes/_axes.py:6571: UserWarning: The 'normed' kwarg is deprecated, and has been replaced by the 'density' kwarg.\n",
      "  warnings.warn(\"The 'normed' kwarg is deprecated, and has been \"\n"
     ]
    },
    {
     "data": {
      "image/png": "[encoded data removed]",
      "text/plain": [
       "<Figure size 1584x216 with 5 Axes>"
      ]
     },
     "metadata": {
      "needs_background": "light"
     },
     "output_type": "display_data"
    }
   ],
   "source": [
    "df_churn = df[df['is_churn']==1]\n",
    "df_not_churn = df[df['is_churn']==0]\n",
    "\n",
    "fig, axs = plt.subplots(1,5, figsize=(22,3))\n",
    "fig.subplots_adjust(hspace = .5, wspace=.3)\n",
    "axs = axs.ravel()\n",
    "\n",
    "for i in range(len(axs)):\n",
    "    axs[i].hist(df_churn[num_variables[i]], bins=50, alpha=0.3, color='blue', normed=True)\n",
    "    axs[i].hist(df_not_churn[num_variables[i]], bins=50, alpha=0.3, color='red', normed=True)\n",
    "    axs[i].xaxis.set_tick_params(rotation=15)\n",
    "    title = str(num_variables[i])\n",
    "    axs[i].set_title(title)\n",
    "    axs[i].legend(['Is Churn', 'Not Churn'])\n",
    "    \n",
    "plt.show()\n",
    "\n",
    "del df_churn\n",
    "del df_not_churn"
   ]
  },
  {
   "cell_type": "markdown",
   "metadata": {},
   "source": [
    "The varibles `recency` and `age` seems to have the biggest discriminative power. \n",
    "\n",
    "### Correlation\n",
    "Now let's move to the correlation among them."
   ]
  },
  {
   "cell_type": "code",
   "execution_count": 17,
   "metadata": {},
   "outputs": [
    {
     "data": {
      "image/png": "[encoded data removed]",
      "text/plain": [
       "<Figure size 432x288 with 2 Axes>"
      ]
     },
     "metadata": {
      "needs_background": "light"
     },
     "output_type": "display_data"
    }
   ],
   "source": [
    "# Calculating the correlation matrix\n",
    "num_corr = df[num_variables].corr(method='pearson')\n",
    "\n",
    "num_corr = num_corr.where(np.tril(np.ones(num_corr.shape)).astype(np.bool))\n",
    "\n",
    "plt.imshow(num_corr, cmap=plt.cm.Reds, interpolation='nearest')\n",
    "tick_marks = [i for i in range(len(num_variables))]\n",
    "plt.xticks(tick_marks, num_variables, rotation='45')\n",
    "plt.yticks(tick_marks, num_variables)\n",
    "plt.title('Pearson Correlation')\n",
    "plt.colorbar()\n",
    "plt.show()"
   ]
  },
  {
   "cell_type": "code",
   "execution_count": 18,
   "metadata": {},
   "outputs": [
    {
     "data": {
      "text/html": [
       "<div>\n",
       "<style scoped>\n",
       "    .dataframe tbody tr th:only-of-type {\n",
       "        vertical-align: middle;\n",
       "    }\n",
       "\n",
       "    .dataframe tbody tr th {\n",
       "        vertical-align: top;\n",
       "    }\n",
       "\n",
       "    .dataframe thead th {\n",
       "        text-align: right;\n",
       "    }\n",
       "</style>\n",
       "<table border=\"1\" class=\"dataframe\">\n",
       "  <thead>\n",
       "    <tr style=\"text-align: right;\">\n",
       "      <th></th>\n",
       "      <th>n_orders</th>\n",
       "      <th>recency</th>\n",
       "      <th>age</th>\n",
       "      <th>mean_quantity</th>\n",
       "      <th>mean_items_price</th>\n",
       "    </tr>\n",
       "  </thead>\n",
       "  <tbody>\n",
       "    <tr>\n",
       "      <th>n_orders</th>\n",
       "      <td>1.000000</td>\n",
       "      <td>NaN</td>\n",
       "      <td>NaN</td>\n",
       "      <td>NaN</td>\n",
       "      <td>NaN</td>\n",
       "    </tr>\n",
       "    <tr>\n",
       "      <th>recency</th>\n",
       "      <td>0.172280</td>\n",
       "      <td>1.000000</td>\n",
       "      <td>NaN</td>\n",
       "      <td>NaN</td>\n",
       "      <td>NaN</td>\n",
       "    </tr>\n",
       "    <tr>\n",
       "      <th>age</th>\n",
       "      <td>0.165261</td>\n",
       "      <td>0.984867</td>\n",
       "      <td>1.000000</td>\n",
       "      <td>NaN</td>\n",
       "      <td>NaN</td>\n",
       "    </tr>\n",
       "    <tr>\n",
       "      <th>mean_quantity</th>\n",
       "      <td>0.089408</td>\n",
       "      <td>0.028366</td>\n",
       "      <td>0.022419</td>\n",
       "      <td>1.000000</td>\n",
       "      <td>NaN</td>\n",
       "    </tr>\n",
       "    <tr>\n",
       "      <th>mean_items_price</th>\n",
       "      <td>0.141264</td>\n",
       "      <td>0.020779</td>\n",
       "      <td>0.020666</td>\n",
       "      <td>0.770852</td>\n",
       "      <td>1.0</td>\n",
       "    </tr>\n",
       "  </tbody>\n",
       "</table>\n",
       "</div>"
      ],
      "text/plain": [
       "                  n_orders   recency       age  mean_quantity  \\\n",
       "n_orders          1.000000       NaN       NaN            NaN   \n",
       "recency           0.172280  1.000000       NaN            NaN   \n",
       "age               0.165261  0.984867  1.000000            NaN   \n",
       "mean_quantity     0.089408  0.028366  0.022419       1.000000   \n",
       "mean_items_price  0.141264  0.020779  0.020666       0.770852   \n",
       "\n",
       "                  mean_items_price  \n",
       "n_orders                       NaN  \n",
       "recency                        NaN  \n",
       "age                            NaN  \n",
       "mean_quantity                  NaN  \n",
       "mean_items_price               1.0  "
      ]
     },
     "execution_count": 18,
     "metadata": {},
     "output_type": "execute_result"
    }
   ],
   "source": [
    "num_corr"
   ]
  },
  {
   "cell_type": "markdown",
   "metadata": {},
   "source": [
    "We have highly correlated variables like `recency` and `age`, up to 0.98."
   ]
  },
  {
   "cell_type": "markdown",
   "metadata": {},
   "source": [
    "# Creating the Classification Model Based on Neural Networks"
   ]
  },
  {
   "cell_type": "code",
   "execution_count": 19,
   "metadata": {},
   "outputs": [],
   "source": [
    "# removing missing data\n",
    "df.dropna(inplace=True)"
   ]
  },
  {
   "cell_type": "code",
   "execution_count": 20,
   "metadata": {},
   "outputs": [
    {
     "data": {
      "text/plain": [
       "0.0    0.900978\n",
       "1.0    0.099022\n",
       "Name: is_churn, dtype: float64"
      ]
     },
     "execution_count": 20,
     "metadata": {},
     "output_type": "execute_result"
    }
   ],
   "source": [
    "# Establish a benchmark: what would be your accuracy score if you predicted everyone stay?\n",
    "df['is_churn'].value_counts() / len(df)"
   ]
  },
  {
   "cell_type": "markdown",
   "metadata": {},
   "source": [
    "**IMPORTANT:** Predicting **0** all the time would yield an accuracy of 90%. So the classification model has to have an accuracy higher than 90% to beat the benchmark!\n",
    "\n",
    "With this, we also can see that the dataset is highly unbalanced."
   ]
  },
  {
   "cell_type": "markdown",
   "metadata": {},
   "source": [
    "### Convert Categorical Features"
   ]
  },
  {
   "cell_type": "code",
   "execution_count": 21,
   "metadata": {},
   "outputs": [
    {
     "data": {
      "text/html": [
       "<div>\n",
       "<style scoped>\n",
       "    .dataframe tbody tr th:only-of-type {\n",
       "        vertical-align: middle;\n",
       "    }\n",
       "\n",
       "    .dataframe tbody tr th {\n",
       "        vertical-align: top;\n",
       "    }\n",
       "\n",
       "    .dataframe thead th {\n",
       "        text-align: right;\n",
       "    }\n",
       "</style>\n",
       "<table border=\"1\" class=\"dataframe\">\n",
       "  <thead>\n",
       "    <tr style=\"text-align: right;\">\n",
       "      <th></th>\n",
       "      <th>n_orders</th>\n",
       "      <th>recency</th>\n",
       "      <th>age</th>\n",
       "      <th>mean_quantity</th>\n",
       "      <th>mean_items_price</th>\n",
       "      <th>is_churn</th>\n",
       "      <th>group_code_0.0</th>\n",
       "      <th>group_code_1.0</th>\n",
       "      <th>group_code_2.0</th>\n",
       "    </tr>\n",
       "  </thead>\n",
       "  <tbody>\n",
       "    <tr>\n",
       "      <th>0</th>\n",
       "      <td>19.0</td>\n",
       "      <td>3545.0</td>\n",
       "      <td>3575.0</td>\n",
       "      <td>87.684211</td>\n",
       "      <td>3906.058421</td>\n",
       "      <td>0.0</td>\n",
       "      <td>1</td>\n",
       "      <td>0</td>\n",
       "      <td>0</td>\n",
       "    </tr>\n",
       "    <tr>\n",
       "      <th>1</th>\n",
       "      <td>42.0</td>\n",
       "      <td>3667.0</td>\n",
       "      <td>3785.0</td>\n",
       "      <td>76.595238</td>\n",
       "      <td>2944.703333</td>\n",
       "      <td>0.0</td>\n",
       "      <td>1</td>\n",
       "      <td>0</td>\n",
       "      <td>0</td>\n",
       "    </tr>\n",
       "    <tr>\n",
       "      <th>2</th>\n",
       "      <td>39.0</td>\n",
       "      <td>3810.0</td>\n",
       "      <td>3820.0</td>\n",
       "      <td>82.153846</td>\n",
       "      <td>2484.514615</td>\n",
       "      <td>0.0</td>\n",
       "      <td>1</td>\n",
       "      <td>0</td>\n",
       "      <td>0</td>\n",
       "    </tr>\n",
       "    <tr>\n",
       "      <th>3</th>\n",
       "      <td>62.0</td>\n",
       "      <td>3722.0</td>\n",
       "      <td>3783.0</td>\n",
       "      <td>163.290323</td>\n",
       "      <td>18223.666452</td>\n",
       "      <td>0.0</td>\n",
       "      <td>1</td>\n",
       "      <td>0</td>\n",
       "      <td>0</td>\n",
       "    </tr>\n",
       "    <tr>\n",
       "      <th>4</th>\n",
       "      <td>35.0</td>\n",
       "      <td>3617.0</td>\n",
       "      <td>3788.0</td>\n",
       "      <td>125.228571</td>\n",
       "      <td>2935.597429</td>\n",
       "      <td>0.0</td>\n",
       "      <td>1</td>\n",
       "      <td>0</td>\n",
       "      <td>0</td>\n",
       "    </tr>\n",
       "  </tbody>\n",
       "</table>\n",
       "</div>"
      ],
      "text/plain": [
       "   n_orders  recency     age  mean_quantity  mean_items_price  is_churn  \\\n",
       "0      19.0   3545.0  3575.0      87.684211       3906.058421       0.0   \n",
       "1      42.0   3667.0  3785.0      76.595238       2944.703333       0.0   \n",
       "2      39.0   3810.0  3820.0      82.153846       2484.514615       0.0   \n",
       "3      62.0   3722.0  3783.0     163.290323      18223.666452       0.0   \n",
       "4      35.0   3617.0  3788.0     125.228571       2935.597429       0.0   \n",
       "\n",
       "   group_code_0.0  group_code_1.0  group_code_2.0  \n",
       "0               1               0               0  \n",
       "1               1               0               0  \n",
       "2               1               0               0  \n",
       "3               1               0               0  \n",
       "4               1               0               0  "
      ]
     },
     "execution_count": 21,
     "metadata": {},
     "output_type": "execute_result"
    }
   ],
   "source": [
    "# convert the categorical features into binary dummy columns.\n",
    "df_dummies = pd.get_dummies(df['group_code'], prefix='group_code')\n",
    "\n",
    "X = pd.concat([df, df_dummies], axis=1, sort=False)\n",
    "X.drop(columns='group_code', inplace=True)\n",
    "\n",
    "X.head()"
   ]
  },
  {
   "cell_type": "code",
   "execution_count": 22,
   "metadata": {},
   "outputs": [
    {
     "name": "stdout",
     "output_type": "stream",
     "text": [
      "This dataset contains 818 entries and 9 features\n"
     ]
    }
   ],
   "source": [
    "y = df['is_churn']\n",
    "n_samples = X.shape[0]\n",
    "\n",
    "print('This dataset contains %i entries and %i features' % (n_samples, X.shape[1]))"
   ]
  },
  {
   "cell_type": "markdown",
   "metadata": {},
   "source": [
    "### Cross Validation"
   ]
  },
  {
   "cell_type": "code",
   "execution_count": 23,
   "metadata": {},
   "outputs": [],
   "source": [
    "from sklearn.model_selection import StratifiedKFold"
   ]
  },
  {
   "cell_type": "code",
   "execution_count": 24,
   "metadata": {},
   "outputs": [
    {
     "name": "stdout",
     "output_type": "stream",
     "text": [
      "Fold #1 has 90% events for training and 10% for validation.\n",
      "Fold #2 has 90% events for training and 10% for validation.\n",
      "Fold #3 has 90% events for training and 10% for validation.\n",
      "Fold #4 has 90% events for training and 10% for validation.\n",
      "Fold #5 has 90% events for training and 10% for validation.\n",
      "Fold #6 has 90% events for training and 10% for validation.\n",
      "Fold #7 has 90% events for training and 10% for validation.\n",
      "Fold #8 has 90% events for training and 10% for validation.\n",
      "Fold #9 has 90% events for training and 10% for validation.\n",
      "Fold #10 has 90% events for training and 10% for validation.\n"
     ]
    }
   ],
   "source": [
    "n_splits = 10\n",
    "seed = 2018\n",
    "folds = list(StratifiedKFold(n_splits=n_splits, shuffle=True, random_state=seed).split(X, y))\n",
    "\n",
    "for i, fold in enumerate(folds):\n",
    "    percentage_trn = (np.float(len(fold[0])) / n_samples) * 100.0\n",
    "    percentage_val = (np.float(len(fold[1])) / n_samples) * 100.0\n",
    "    print('Fold #%i has %1.0f%% events for training and %1.0f%% for validation.' % (i+1, percentage_trn, percentage_val))"
   ]
  },
  {
   "cell_type": "markdown",
   "metadata": {},
   "source": [
    "We can see that the percentage of events in training and validation sets are the same for every fold."
   ]
  },
  {
   "cell_type": "markdown",
   "metadata": {},
   "source": [
    "### Scale Numerical Variables"
   ]
  },
  {
   "cell_type": "code",
   "execution_count": 25,
   "metadata": {},
   "outputs": [],
   "source": [
    "from sklearn.preprocessing import StandardScaler\n",
    "scaler = StandardScaler()"
   ]
  },
  {
   "cell_type": "code",
   "execution_count": 26,
   "metadata": {},
   "outputs": [],
   "source": [
    "X[num_variables] = scaler.fit_transform(X[num_variables])"
   ]
  },
  {
   "cell_type": "code",
   "execution_count": 27,
   "metadata": {},
   "outputs": [
    {
     "data": {
      "image/png": "[encoded data removed]",
      "text/plain": [
       "<Figure size 1584x216 with 5 Axes>"
      ]
     },
     "metadata": {
      "needs_background": "light"
     },
     "output_type": "display_data"
    }
   ],
   "source": [
    "fig, axs = plt.subplots(1,5, figsize=(22,3))\n",
    "fig.subplots_adjust(hspace = .5, wspace=.3)\n",
    "axs = axs.ravel()\n",
    "\n",
    "for i in range(len(axs)):\n",
    "    axs[i].hist(X[num_variables[i]], bins=100)\n",
    "    axs[i].set_yscale('log')\n",
    "    axs[i].xaxis.set_tick_params(rotation=15)\n",
    "    title = str(num_variables[i])\n",
    "    axs[i].set_title(title)\n",
    "    \n",
    "plt.show()"
   ]
  },
  {
   "cell_type": "markdown",
   "metadata": {},
   "source": [
    "## Neural Network Model\n",
    "\n",
    "I'll start the analysis using a simple MLP model with only one hidden layer. I'll also apply a cross validation to estimate the statistical uncertainty of the model on the validation data. By the end of the analysis I'll check for overfitting lokking at the history of each epoch and test the classification capability of the model using a confusion matrix."
   ]
  },
  {
   "cell_type": "code",
   "execution_count": 28,
   "metadata": {},
   "outputs": [
    {
     "name": "stderr",
     "output_type": "stream",
     "text": [
      "Using TensorFlow backend.\n"
     ]
    }
   ],
   "source": [
    "from keras.models import Sequential\n",
    "from keras.layers import Dense\n",
    "from keras.optimizers import SGD, Adam, Adadelta, RMSprop\n",
    "import keras.backend as K"
   ]
  },
  {
   "cell_type": "code",
   "execution_count": 29,
   "metadata": {},
   "outputs": [],
   "source": [
    "def load_model():\n",
    "    \"\"\"\n",
    "    Function to create the neural network model\n",
    "    \"\"\"\n",
    "    K.clear_session()\n",
    "    model = Sequential()\n",
    "    \n",
    "    model.add(Dense(5, input_shape=(9,), kernel_initializer='he_normal', activation='tanh'))\n",
    "    model.add(Dense(1, activation='sigmoid'))\n",
    "    \n",
    "    model.compile(Adam(lr=0.05), 'binary_crossentropy', metrics=['accuracy'])\n",
    "    \n",
    "    return model"
   ]
  },
  {
   "cell_type": "markdown",
   "metadata": {},
   "source": [
    "Add the `EarlyStop` callback to monitor the validation loss and avoid overfitting."
   ]
  },
  {
   "cell_type": "code",
   "execution_count": 30,
   "metadata": {},
   "outputs": [],
   "source": [
    "from keras.callbacks import EarlyStopping, ModelCheckpoint\n",
    "\n",
    "# add callbacks to the model\n",
    "early_stop = EarlyStopping(monitor='val_loss', patience=3)\n",
    "\n",
    "weights_file = 'neural_net_churn_model.hdf5'\n",
    "checkpoint = ModelCheckpoint(weights_file, monitor='val_loss', save_best_only=True)\n",
    "\n",
    "callbacks = [early_stop, checkpoint]"
   ]
  },
  {
   "cell_type": "code",
   "execution_count": 31,
   "metadata": {},
   "outputs": [
    {
     "name": "stdout",
     "output_type": "stream",
     "text": [
      ">> Fold 1# <<\n",
      "  Training on 735 examples.\n",
      "  Validating on 83 examples.\n",
      "83/83 [==============================] - 0s 34us/step\n",
      "  This model has 1.000000 validation accuraccy.\n",
      "\n",
      ">> Fold 2# <<\n",
      "  Training on 736 examples.\n",
      "  Validating on 82 examples.\n",
      "82/82 [==============================] - 0s 37us/step\n",
      "  This model has 1.000000 validation accuraccy.\n",
      "\n",
      ">> Fold 3# <<\n",
      "  Training on 736 examples.\n",
      "  Validating on 82 examples.\n",
      "82/82 [==============================] - 0s 37us/step\n",
      "  This model has 1.000000 validation accuraccy.\n",
      "\n",
      ">> Fold 4# <<\n",
      "  Training on 736 examples.\n",
      "  Validating on 82 examples.\n",
      "82/82 [==============================] - 0s 35us/step\n",
      "  This model has 1.000000 validation accuraccy.\n",
      "\n",
      ">> Fold 5# <<\n",
      "  Training on 736 examples.\n",
      "  Validating on 82 examples.\n",
      "82/82 [==============================] - 0s 39us/step\n",
      "  This model has 1.000000 validation accuraccy.\n",
      "\n",
      ">> Fold 6# <<\n",
      "  Training on 736 examples.\n",
      "  Validating on 82 examples.\n",
      "82/82 [==============================] - 0s 32us/step\n",
      "  This model has 1.000000 validation accuraccy.\n",
      "\n",
      ">> Fold 7# <<\n",
      "  Training on 736 examples.\n",
      "  Validating on 82 examples.\n",
      "82/82 [==============================] - 0s 35us/step\n",
      "  This model has 1.000000 validation accuraccy.\n",
      "\n",
      ">> Fold 8# <<\n",
      "  Training on 737 examples.\n",
      "  Validating on 81 examples.\n",
      "81/81 [==============================] - 0s 33us/step\n",
      "  This model has 1.000000 validation accuraccy.\n",
      "\n",
      ">> Fold 9# <<\n",
      "  Training on 737 examples.\n",
      "  Validating on 81 examples.\n",
      "81/81 [==============================] - 0s 34us/step\n",
      "  This model has 1.000000 validation accuraccy.\n",
      "\n",
      ">> Fold 10# <<\n",
      "  Training on 737 examples.\n",
      "  Validating on 81 examples.\n",
      "81/81 [==============================] - 0s 33us/step\n",
      "  This model has 1.000000 validation accuraccy.\n",
      "\n"
     ]
    }
   ],
   "source": [
    "cv_scores = []\n",
    "cv_hist = []\n",
    "\n",
    "# train the model\n",
    "for fold, (trn_idx, val_idx) in enumerate(folds):\n",
    "    print('>> Fold %i# <<' % int(fold+1))\n",
    "    \n",
    "    # get training and validation data folds\n",
    "    X_trn = X.values[trn_idx, :]\n",
    "    y_trn = y.values[trn_idx]\n",
    "    X_val = X.values[val_idx, :]\n",
    "    y_val = y.values[val_idx]\n",
    "    \n",
    "    print('  Training on %i examples.' % X_trn.shape[0])\n",
    "    print('  Validating on %i examples.' % X_val.shape[0])\n",
    "    \n",
    "    model = load_model()\n",
    "    \n",
    "    # serialize model to JSON\n",
    "    if fold == 0:\n",
    "        model_json = model.to_json()\n",
    "        model_file = 'neural_net_churn_model.json'\n",
    "        with open(model_file, 'w') as json_file:\n",
    "            json_file.write(model_json)\n",
    "    \n",
    "    hist = model.fit(X_trn, y_trn, \n",
    "                     validation_data=(X_val, y_val), \n",
    "                     batch_size=32, \n",
    "                     epochs=20, \n",
    "                     callbacks=callbacks,\n",
    "                     verbose=0)\n",
    "    \n",
    "    \n",
    "    scores = model.evaluate(X_val, y_val)\n",
    "    print('  This model has %1.6f validation accuraccy.\\n' % scores[1])\n",
    "    \n",
    "    cv_scores.append(scores)\n",
    "    cv_hist.append(hist)"
   ]
  },
  {
   "cell_type": "code",
   "execution_count": 32,
   "metadata": {},
   "outputs": [
    {
     "name": "stdout",
     "output_type": "stream",
     "text": [
      "Accuracy = 1.0000 +- 0.0000\n"
     ]
    }
   ],
   "source": [
    "val_acc = []\n",
    "\n",
    "for metric in cv_scores:\n",
    "    val_acc.append(metric[1])\n",
    "    \n",
    "print('Accuracy = %1.4f +- %1.4f' % (np.mean(val_acc), np.std(val_acc)))"
   ]
  },
  {
   "cell_type": "markdown",
   "metadata": {},
   "source": [
    "## Getting the best model"
   ]
  },
  {
   "cell_type": "code",
   "execution_count": 33,
   "metadata": {},
   "outputs": [],
   "source": [
    "model.load_weights(weights_file)"
   ]
  },
  {
   "cell_type": "code",
   "execution_count": 34,
   "metadata": {},
   "outputs": [
    {
     "data": {
      "image/png": "[encoded data removed]",
      "text/plain": [
       "<Figure size 432x288 with 1 Axes>"
      ]
     },
     "metadata": {
      "needs_background": "light"
     },
     "output_type": "display_data"
    }
   ],
   "source": [
    "fig = plt.figure(figsize=(6,4))\n",
    "plt.plot(model.history.history['val_loss'], label='Validation Loss')\n",
    "plt.plot(model.history.history['loss'], label='Training Loss')\n",
    "plt.ylabel('Loss')\n",
    "plt.xlabel('Epochs')\n",
    "plt.title('History (Best Model)')\n",
    "plt.legend()\n",
    "plt.show()"
   ]
  },
  {
   "cell_type": "markdown",
   "metadata": {},
   "source": [
    "No signal of overfitting was found in the training history."
   ]
  },
  {
   "cell_type": "code",
   "execution_count": 35,
   "metadata": {},
   "outputs": [
    {
     "data": {
      "image/png": "[encoded data removed]",
      "text/plain": [
       "<Figure size 432x288 with 1 Axes>"
      ]
     },
     "metadata": {
      "needs_background": "light"
     },
     "output_type": "display_data"
    }
   ],
   "source": [
    "fig = plt.figure(figsize=(6,4))\n",
    "plt.plot(model.history.history['val_acc'], label='Validation Accuracy')\n",
    "plt.plot(model.history.history['acc'], label='Training Accuracy')\n",
    "plt.ylabel('Accuracy')\n",
    "plt.xlabel('Epochs')\n",
    "plt.title('History (Best Model)')\n",
    "plt.legend()\n",
    "plt.show()"
   ]
  },
  {
   "cell_type": "markdown",
   "metadata": {},
   "source": [
    "Both, validation and training, accuracy gets maximum value before the 5th epoch."
   ]
  },
  {
   "cell_type": "code",
   "execution_count": 36,
   "metadata": {},
   "outputs": [],
   "source": [
    "from sklearn.metrics import confusion_matrix, classification_report"
   ]
  },
  {
   "cell_type": "code",
   "execution_count": 37,
   "metadata": {},
   "outputs": [
    {
     "name": "stdout",
     "output_type": "stream",
     "text": [
      ">> Confusion Matrix for the 1 fold. <<\n",
      "\n"
     ]
    },
    {
     "data": {
      "text/html": [
       "<div>\n",
       "<style scoped>\n",
       "    .dataframe tbody tr th:only-of-type {\n",
       "        vertical-align: middle;\n",
       "    }\n",
       "\n",
       "    .dataframe tbody tr th {\n",
       "        vertical-align: top;\n",
       "    }\n",
       "\n",
       "    .dataframe thead th {\n",
       "        text-align: right;\n",
       "    }\n",
       "</style>\n",
       "<table border=\"1\" class=\"dataframe\">\n",
       "  <thead>\n",
       "    <tr style=\"text-align: right;\">\n",
       "      <th></th>\n",
       "      <th>Predicted Not Churn</th>\n",
       "      <th>Predicted Churn</th>\n",
       "    </tr>\n",
       "  </thead>\n",
       "  <tbody>\n",
       "    <tr>\n",
       "      <th>Not Churn</th>\n",
       "      <td>74</td>\n",
       "      <td>0</td>\n",
       "    </tr>\n",
       "    <tr>\n",
       "      <th>Churn</th>\n",
       "      <td>0</td>\n",
       "      <td>9</td>\n",
       "    </tr>\n",
       "  </tbody>\n",
       "</table>\n",
       "</div>"
      ],
      "text/plain": [
       "           Predicted Not Churn  Predicted Churn\n",
       "Not Churn                   74                0\n",
       "Churn                        0                9"
      ]
     },
     "execution_count": 37,
     "metadata": {},
     "output_type": "execute_result"
    }
   ],
   "source": [
    "def pretty_confusion_matrix(y_true, y_pred, labels=[\"False\", \"True\"]):\n",
    "    cm = confusion_matrix(y_true, y_pred)\n",
    "    pred_labels = ['Predicted '+ l for l in labels]\n",
    "    df = pd.DataFrame(cm, index=labels, columns=pred_labels)\n",
    "    return df\n",
    "\n",
    "# check the confusion matrix for a particular fold\n",
    "fold = 0\n",
    "\n",
    "print('>> Confusion Matrix for the %i fold. <<\\n' % (fold+1))\n",
    "\n",
    "y_test = y.iloc[folds[fold][1]]\n",
    "y_test_pred = model.predict_classes(X.iloc[folds[fold][1], :])\n",
    "\n",
    "pretty_confusion_matrix(y_test, y_test_pred, labels=['Not Churn', 'Churn'])"
   ]
  },
  {
   "cell_type": "markdown",
   "metadata": {},
   "source": [
    "One can also check the confusion matrix for every other fold used during cross validation."
   ]
  },
  {
   "cell_type": "code",
   "execution_count": 38,
   "metadata": {},
   "outputs": [
    {
     "name": "stdout",
     "output_type": "stream",
     "text": [
      "              precision    recall  f1-score   support\n",
      "\n",
      "         0.0       1.00      1.00      1.00        74\n",
      "         1.0       1.00      1.00      1.00         9\n",
      "\n",
      "   micro avg       1.00      1.00      1.00        83\n",
      "   macro avg       1.00      1.00      1.00        83\n",
      "weighted avg       1.00      1.00      1.00        83\n",
      "\n"
     ]
    }
   ],
   "source": [
    "print(classification_report(y_test, y_test_pred))"
   ]
  },
  {
   "cell_type": "markdown",
   "metadata": {},
   "source": [
    "## Conclusion\n",
    "\n",
    "With a simple MLP model we could predict the churning rate of each customer on the dataser with 100% accuracy on the test set."
   ]
  },
  {
   "cell_type": "code",
   "execution_count": null,
   "metadata": {},
   "outputs": [],
   "source": []
  }
 ],
 "metadata": {
  "kernelspec": {
   "display_name": "Python 2",
   "language": "python",
   "name": "python2"
  },
  "language_info": {
   "codemirror_mode": {
    "name": "ipython",
    "version": 2
   },
   "file_extension": ".py",
   "mimetype": "text/x-python",
   "name": "python",
   "nbconvert_exporter": "python",
   "pygments_lexer": "ipython2",
   "version": "2.7.14"
  }
 },
 "nbformat": 4,
 "nbformat_minor": 2
}
